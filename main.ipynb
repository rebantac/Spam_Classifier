{
 "cells": [
  {
   "cell_type": "code",
   "execution_count": 2,
   "id": "9c2e5ca5",
   "metadata": {},
   "outputs": [],
   "source": [
    "# Importing Dataset\n",
    "\n",
    "import pandas as pd\n",
    "\n",
    "messages = pd.read_csv('SMSSpamCollection', sep='\\t', names=['label', 'message'])\n",
    "# '\\t' -> denotes tab and the label and the msg in the dataset are separated by a tab"
   ]
  },
  {
   "cell_type": "code",
   "execution_count": 6,
   "id": "bae14ccf",
   "metadata": {},
   "outputs": [],
   "source": [
    "# Data Cleaning and Preprocessing\n",
    "\n",
    "import re\n",
    "from nltk.corpus import stopwords\n",
    "from nltk.stem import WordNetLemmatizer\n",
    "\n",
    "lm = WordNetLemmatizer()\n",
    "corpus = []\n",
    "\n",
    "for i in range(0, len(messages)):\n",
    "    review = re.sub('[^a-zA-Z]', ' ', messages['message'][i])\n",
    "    review = review.lower()\n",
    "    review = review.split()\n",
    "    \n",
    "    review = [lm.lemmatize(word) for word in review if not word in set(stopwords.words('english'))]\n",
    "    review = ' '.join(review)\n",
    "    corpus.append(review)"
   ]
  },
  {
   "cell_type": "code",
   "execution_count": 10,
   "id": "777d0cb1",
   "metadata": {},
   "outputs": [],
   "source": [
    "# Creating the Bag of Words Model\n",
    "\n",
    "from sklearn.feature_extraction.text import CountVectorizer\n",
    "cv = CountVectorizer()\n",
    "X = cv.fit_transform(corpus).toarray()"
   ]
  },
  {
   "cell_type": "code",
   "execution_count": 12,
   "id": "92061946",
   "metadata": {},
   "outputs": [],
   "source": [
    "# Creating labels by assigning dummies\n",
    "\n",
    "Y = pd.get_dummies(messages['label'])\n",
    "Y = Y.iloc[:,1].values # represents ham/spam in a single column => ham -> 0; spam -> 1"
   ]
  },
  {
   "cell_type": "markdown",
   "id": "fed1ab8e",
   "metadata": {},
   "source": [
    "X -> Indepedent Feature\n",
    "Y -> Dependent/ Labels"
   ]
  },
  {
   "cell_type": "code",
   "execution_count": 13,
   "id": "fbd5e3a6",
   "metadata": {},
   "outputs": [],
   "source": [
    "# Train - Test Split\n",
    "\n",
    "from sklearn.model_selection import train_test_split\n",
    "X_train, X_test, Y_train, Y_test = train_test_split(X, Y, test_size = 0.20, random_state = 0)\n",
    "# Test State ->  20% of the data"
   ]
  },
  {
   "cell_type": "code",
   "execution_count": 19,
   "id": "514f137f",
   "metadata": {},
   "outputs": [],
   "source": [
    "# Training Model using Naive Bayes Classifier\n",
    "\n",
    "from sklearn.naive_bayes import MultinomialNB # -> Naive Bayes Library\n",
    "spam_detect_model = MultinomialNB().fit(X_train, Y_train)"
   ]
  },
  {
   "cell_type": "code",
   "execution_count": 21,
   "id": "ce3424fa",
   "metadata": {},
   "outputs": [],
   "source": [
    "# For Testing\n",
    "\n",
    "Y_pred = spam_detect_model.predict(X_test)"
   ]
  },
  {
   "cell_type": "code",
   "execution_count": 23,
   "id": "3318256a",
   "metadata": {},
   "outputs": [
    {
     "name": "stdout",
     "output_type": "stream",
     "text": [
      "[[936  19]\n",
      " [  7 153]]\n"
     ]
    }
   ],
   "source": [
    "# Creating Confusion Matrix\n",
    "\n",
    "from sklearn.metrics import confusion_matrix\n",
    "confusion_mat = confusion_matrix(Y_test, Y_pred)\n",
    "print(confusion_mat)"
   ]
  },
  {
   "cell_type": "code",
   "execution_count": 24,
   "id": "8c138f8b",
   "metadata": {},
   "outputs": [
    {
     "name": "stdout",
     "output_type": "stream",
     "text": [
      "0.9766816143497757\n"
     ]
    }
   ],
   "source": [
    "# Checking Accuracy\n",
    "\n",
    "from sklearn.metrics import accuracy_score\n",
    "accuracy = accuracy_score(Y_test, Y_pred)\n",
    "print(accuracy)"
   ]
  },
  {
   "cell_type": "code",
   "execution_count": null,
   "id": "c831fdd3",
   "metadata": {},
   "outputs": [],
   "source": []
  }
 ],
 "metadata": {
  "kernelspec": {
   "display_name": "Python 3 (ipykernel)",
   "language": "python",
   "name": "python3"
  },
  "language_info": {
   "codemirror_mode": {
    "name": "ipython",
    "version": 3
   },
   "file_extension": ".py",
   "mimetype": "text/x-python",
   "name": "python",
   "nbconvert_exporter": "python",
   "pygments_lexer": "ipython3",
   "version": "3.10.2"
  }
 },
 "nbformat": 4,
 "nbformat_minor": 5
}
